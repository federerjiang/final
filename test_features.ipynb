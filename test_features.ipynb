{
 "cells": [
  {
   "cell_type": "markdown",
   "metadata": {},
   "source": [
    "## Test fft"
   ]
  },
  {
   "cell_type": "code",
   "execution_count": 2,
   "metadata": {},
   "outputs": [],
   "source": [
    "import random\n",
    "import numpy as np"
   ]
  },
  {
   "cell_type": "code",
   "execution_count": 3,
   "metadata": {},
   "outputs": [],
   "source": [
    "thps = [random.uniform(1,10) for i in range(16)]"
   ]
  },
  {
   "cell_type": "code",
   "execution_count": 4,
   "metadata": {},
   "outputs": [
    {
     "name": "stdout",
     "output_type": "stream",
     "text": [
      "[1.3313861012084631, 5.990538718700794, 7.457515999482345, 7.544163540762572, 2.5869132637590844, 1.975454082211773, 2.0367918872499198, 6.4698070506626975, 5.9184728863428, 3.5022251029922833, 8.584041031427219, 9.9141498968645, 4.277735265819487, 8.20373370814681, 7.899711595438458, 4.781811613094024]\n"
     ]
    }
   ],
   "source": [
    "print(thps)"
   ]
  },
  {
   "cell_type": "code",
   "execution_count": 5,
   "metadata": {},
   "outputs": [],
   "source": [
    "import matplotlib\n",
    "import matplotlib.pyplot as plt\n",
    "\n",
    "%matplotlib inline\n",
    "matplotlib.style.use('ggplot')"
   ]
  },
  {
   "cell_type": "code",
   "execution_count": 6,
   "metadata": {},
   "outputs": [
    {
     "data": {
      "image/png": "[encoded data removed]",
      "text/plain": [
       "<matplotlib.figure.Figure at 0x1115f8358>"
      ]
     },
     "metadata": {},
     "output_type": "display_data"
    }
   ],
   "source": [
    "plt.plot(thps)\n",
    "plt.show()"
   ]
  },
  {
   "cell_type": "code",
   "execution_count": 8,
   "metadata": {},
   "outputs": [
    {
     "name": "stdout",
     "output_type": "stream",
     "text": [
      "[ 88.47445174 +0.j           0.9779525 +12.97866345j\n",
      "  -4.48896055-10.00847447j -11.19455325 -3.89735862j\n",
      " -11.863553   +9.03798049j  -4.6778939 -10.40028216j\n",
      "   5.25938146 +2.20163263j  -3.45385249 -0.2875481j\n",
      "  -8.28931568 +0.j          -3.45385249 +0.2875481j\n",
      "   5.25938146 -2.20163263j  -4.6778939 +10.40028216j\n",
      " -11.863553   -9.03798049j -11.19455325 +3.89735862j\n",
      "  -4.48896055+10.00847447j   0.9779525 -12.97866345j]\n"
     ]
    }
   ],
   "source": [
    "_ftt = np.fft.fft(thps)\n",
    "print(_ftt)"
   ]
  },
  {
   "cell_type": "code",
   "execution_count": 10,
   "metadata": {},
   "outputs": [
    {
     "name": "stdout",
     "output_type": "stream",
     "text": [
      "[ 88.47445174   0.9779525   -4.48896055 -11.19455325 -11.863553\n",
      "  -4.6778939    5.25938146  -3.45385249  -8.28931568  -3.45385249\n",
      "   5.25938146  -4.6778939  -11.863553   -11.19455325  -4.48896055\n",
      "   0.9779525 ]\n"
     ]
    }
   ],
   "source": [
    "print(_ftt.real)"
   ]
  },
  {
   "cell_type": "code",
   "execution_count": 12,
   "metadata": {},
   "outputs": [
    {
     "name": "stdout",
     "output_type": "stream",
     "text": [
      "[  0.          12.97866345 -10.00847447  -3.89735862   9.03798049\n",
      " -10.40028216   2.20163263  -0.2875481    0.           0.2875481\n",
      "  -2.20163263  10.40028216  -9.03798049   3.89735862  10.00847447\n",
      " -12.97866345]\n"
     ]
    }
   ],
   "source": [
    "print(_ftt.imag)"
   ]
  },
  {
   "cell_type": "code",
   "execution_count": null,
   "metadata": {},
   "outputs": [],
   "source": []
  }
 ],
 "metadata": {
  "kernelspec": {
   "display_name": "Python 3",
   "language": "python",
   "name": "python3"
  },
  "language_info": {
   "codemirror_mode": {
    "name": "ipython",
    "version": 3
   },
   "file_extension": ".py",
   "mimetype": "text/x-python",
   "name": "python",
   "nbconvert_exporter": "python",
   "pygments_lexer": "ipython3",
   "version": "3.6.3"
  }
 },
 "nbformat": 4,
 "nbformat_minor": 2
}
